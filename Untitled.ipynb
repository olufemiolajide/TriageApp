{
 "cells": [
  {
   "cell_type": "code",
   "execution_count": 1,
   "metadata": {},
   "outputs": [],
   "source": [
    "from pycaret.regression import load_model, predict_model\n",
    "import streamlit as st\n",
    "import pandas as pd\n",
    "import numpy as np"
   ]
  },
  {
   "cell_type": "code",
   "execution_count": 7,
   "metadata": {},
   "outputs": [
    {
     "name": "stdout",
     "output_type": "stream",
     "text": [
      "Transformation Pipeline and Model Sucessfully Loaded\n"
     ]
    }
   ],
   "source": [
    "model = load_model('deployment_28042020')\n"
   ]
  },
  {
   "cell_type": "code",
   "execution_count": 9,
   "metadata": {},
   "outputs": [],
   "source": [
    "def predict(model, input_df):\n",
    "    predictions_df = predict_model(estimator=model, data=input_df)\n",
    "    predictions = predictions_df['Label'][0]\n",
    "    return predictions"
   ]
  },
  {
   "cell_type": "code",
   "execution_count": 12,
   "metadata": {},
   "outputs": [
    {
     "ename": "NameError",
     "evalue": "name 'input_df' is not defined",
     "output_type": "error",
     "traceback": [
      "\u001b[1;31m---------------------------------------------------------------------------\u001b[0m",
      "\u001b[1;31mNameError\u001b[0m                                 Traceback (most recent call last)",
      "\u001b[1;32m<ipython-input-12-59ec25508190>\u001b[0m in \u001b[0;36m<module>\u001b[1;34m\u001b[0m\n\u001b[1;32m----> 1\u001b[1;33m \u001b[0moutput\u001b[0m \u001b[1;33m=\u001b[0m \u001b[0mpredict\u001b[0m\u001b[1;33m(\u001b[0m\u001b[0mmodel\u001b[0m\u001b[1;33m=\u001b[0m\u001b[0mmodel\u001b[0m\u001b[1;33m,\u001b[0m \u001b[0minput_df\u001b[0m\u001b[1;33m=\u001b[0m\u001b[0minput_df\u001b[0m\u001b[1;33m)\u001b[0m\u001b[1;33m\u001b[0m\u001b[1;33m\u001b[0m\u001b[0m\n\u001b[0m\u001b[0;32m      2\u001b[0m \u001b[0moutput\u001b[0m \u001b[1;33m=\u001b[0m \u001b[0mround\u001b[0m\u001b[1;33m(\u001b[0m\u001b[0moutput\u001b[0m\u001b[1;33m*\u001b[0m\u001b[1;36m100\u001b[0m\u001b[1;33m)\u001b[0m\u001b[1;33m\u001b[0m\u001b[1;33m\u001b[0m\u001b[0m\n",
      "\u001b[1;31mNameError\u001b[0m: name 'input_df' is not defined"
     ]
    }
   ],
   "source": [
    "output = predict(model=model, input_df=input_df)\n",
    "output = round(output*100)"
   ]
  },
  {
   "cell_type": "code",
   "execution_count": 13,
   "metadata": {},
   "outputs": [
    {
     "name": "stdout",
     "output_type": "stream",
     "text": [
      "Transformation Pipeline and Model Sucessfully Loaded\n"
     ]
    }
   ],
   "source": [
    "from pycaret.regression import load_model, predict_model\n",
    "import streamlit as st\n",
    "import pandas as pd\n",
    "import numpy as np\n",
    "\n",
    "model = load_model('deployment_28042020_classification')\n",
    "#model = load_model('deployment_28042020')\n",
    "\n",
    "\n",
    "def predict(model, input_df):\n",
    "    predictions_df = predict_model(estimator=model, data=input_df)\n",
    "    predictions = predictions_df['Label'][0]\n",
    "    return predictions\n",
    "\n",
    "def run():\n",
    "\n",
    "    from PIL import Image\n",
    "    #image = Image.open('logo.png')\n",
    "    image_hospital = Image.open('hospital.jpg')\n",
    "\n",
    "    #st.image(image,use_column_width=False)\n",
    "\n",
    "    add_selectbox = st.sidebar.selectbox(\n",
    "    \"How would you like to predict?\",\n",
    "    (\"Online\", \"Batch\"))\n",
    "\n",
    "    st.sidebar.info('This app is created to predict patient emergency risk')\n",
    "    st.sidebar.success('https://www.pycaret.org')\n",
    "    \n",
    "    st.sidebar.image(image_hospital)\n",
    "\n",
    "    st.title(\"Alder Hey Emergency Triage App\")\n",
    "    \n",
    "    \n",
    "    if add_selectbox == 'Online':\n",
    "\n",
    "        Age = st.number_input('Age', min_value=0, max_value=20, value=6)\n",
    "     \n",
    "     \n",
    "        Gender = st.selectbox('Gender', ['male', 'female'])\n",
    "        Transport = st.selectbox('Transport', ['Ambulance', 'Helicopter', 'Other'])\n",
    "        Visit_Reason = st.selectbox('Visit_Reason', ['Allergy (Including Anaphylaxis)',  'Infectious Disease', 'Diagnosis Not Classifiable', 'Gastrointestinal Conditions', 'Other Vascular Conditions', 'Respiratory Conditions', 'Burns and Scalds', 'Sprain/Ligament Injury', 'Nothing Abnormal Detected', 'Head Injury', 'Facio-Maxillary Conditions', 'ENT Conditions', 'Urological Conditions (Including Cystitis)', 'Local Infection', 'Soft Tissue Inflammation', 'Muscle/Tendon Injury', 'Central Nervous System Conditions (Excluding Strokes)', 'Psychiatric Conditions', 'Contusion/Abrasion', 'Dislocation/Fracture/Joint Injury/Amputation', 'Laceration', 'Dermatological Conditions', 'Poisoning (Including Overdose)', 'Diabetes and Other Endocrinological Conditions', 'Foreign Body', 'Social Problem (Includes Chronic Alcoholism and Homelessness)', 'Cardiac Conditions', 'Obstetric Conditions', 'Bites/Stings', 'Gynaecological Conditions', 'Ophthalmological Conditions', 'Haematological Conditions', 'Cerebro-Vascular Conditions', 'Visceral Injury', 'Vascular Injury', 'Nerve Injury', 'Near Drowning'])\n",
    "        REFER_SOURCE= st.selectbox(' REFER_SOURCE', ['SELF', 'CONS IN HOSP', 'AE', 'OTHER'])\n",
    "        AVPU = st.selectbox('AVPU', ['Alert', 'Verbal', 'Pain', 'Unresponsive'])\n",
    "        PulseRate = st.number_input('PulseRate', min_value=10, max_value=150, value=70)\n",
    "        RespiratoryRate\t = st.number_input('RespiratoryRate', min_value=10, max_value=100, value=25)\n",
    "        SP02 = st.number_input('SP02', min_value=80, max_value=100, value=100)\n",
    "        Temperature = st.number_input('Temperature', min_value=10, max_value=50, value=37)\n",
    "\n",
    "        output=\"\"\n",
    "        \n",
    "        input_dict = {'Age' : Age, 'Gender' : Gender, 'Transport' : Transport, \n",
    "        'Visit_Reason' : Visit_Reason, 'REFER_SOURCE' : REFER_SOURCE, \n",
    "        'AVPU' : AVPU, 'PulseRate' : PulseRate, 'RespiratoryRate' : RespiratoryRate\t, \n",
    "        'SP02' : SP02, 'Temperature' : Temperature }\n",
    "        \n",
    "        input_df = pd.DataFrame([input_dict])\n",
    "\n",
    "        if st.button(\"Predict\"):\n",
    "            output = predict(model=model, input_df=input_df)\n",
    "            output = round(output*100)\n",
    "   \n",
    "        st.success('This patient triage risk is  {}'.format(output))"
   ]
  },
  {
   "cell_type": "code",
   "execution_count": 15,
   "metadata": {},
   "outputs": [
    {
     "ename": "NameError",
     "evalue": "name 'Predict' is not defined",
     "output_type": "error",
     "traceback": [
      "\u001b[1;31m---------------------------------------------------------------------------\u001b[0m",
      "\u001b[1;31mNameError\u001b[0m                                 Traceback (most recent call last)",
      "\u001b[1;32m<ipython-input-15-b70dcd453e65>\u001b[0m in \u001b[0;36m<module>\u001b[1;34m\u001b[0m\n\u001b[1;32m----> 1\u001b[1;33m \u001b[0mPredict\u001b[0m\u001b[1;33m\u001b[0m\u001b[1;33m\u001b[0m\u001b[0m\n\u001b[0m",
      "\u001b[1;31mNameError\u001b[0m: name 'Predict' is not defined"
     ]
    }
   ],
   "source": [
    "Predict"
   ]
  },
  {
   "cell_type": "code",
   "execution_count": null,
   "metadata": {},
   "outputs": [],
   "source": []
  }
 ],
 "metadata": {
  "kernelspec": {
   "display_name": "Python 3",
   "language": "python",
   "name": "python3"
  },
  "language_info": {
   "codemirror_mode": {
    "name": "ipython",
    "version": 3
   },
   "file_extension": ".py",
   "mimetype": "text/x-python",
   "name": "python",
   "nbconvert_exporter": "python",
   "pygments_lexer": "ipython3",
   "version": "3.7.6"
  }
 },
 "nbformat": 4,
 "nbformat_minor": 4
}
